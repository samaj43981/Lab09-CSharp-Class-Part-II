{
 "cells": [
  {
   "cell_type": "markdown",
   "metadata": {
    "dotnet_interactive": {
     "language": "csharp"
    },
    "polyglot_notebook": {
     "kernelName": "csharp"
    }
   },
   "source": [
    "# Lab 9 Exercise 3\n",
    "\n",
    "## Instance vs static members\n"
   ]
  },
  {
   "cell_type": "markdown",
   "metadata": {},
   "source": [
    "\n",
    "1. สร้าง console application project\n",
    "\n",
    "```cmd\n",
    "    dotnet new console --name Lab09_Ex03\n",
    "```\n"
   ]
  },
  {
   "cell_type": "markdown",
   "metadata": {},
   "source": [
    "\n",
    "2. เปลี่ยน code ให้เป็นดังต่อไปนี้\n",
    "\n",
    "```csharp\n",
    "    Person.name = \"____Person name _____\";\n",
    "    System.Cοnsο1e.write1ine(Person.GetName());\n",
    "    var student = new Student();\n",
    "    student.name = \"_______student name_______\";\n",
    "    System.Conso1e.ωrite1ine(student.GetName());\n",
    "\n",
    "    static Class Person\n",
    "    {\n",
    "        static  pub1ic string? name;\n",
    "        static  pub1ic string GetName()\n",
    "        {\n",
    "            return $\"Hello from {nawe}\";\n",
    "        }\n",
    "    }\n",
    "\n",
    "    class Student : Person\n",
    "    {\n",
    "        \n",
    "    }\n",
    "```\n"
   ]
  },
  {
   "cell_type": "markdown",
   "metadata": {},
   "source": [
    "\n",
    "3. Build project โดยการใช้คำสั่ง\n",
    "\n",
    "```cmd\n",
    "dotnet bul1d  Lab09_Ex03\n",
    "```\n",
    "\n",
    "ถ้ามีที่ผิดพลาดในโปรแกรม ให้แก้ไขให้ถูกต้อง\n"
   ]
  },
  {
   "cell_type": "markdown",
   "metadata": {},
   "source": [
    "public static class Person\n",
    "{\n",
    "    public static string? name;\n",
    "\n",
    "    public static string GetName()\n",
    "    {\n",
    "        return $\"Hello from {name}\";\n",
    "    }\n",
    "}\n",
    "\n",
    "public class Student\n",
    "{\n",
    "    public string? name;\n",
    "\n",
    "    public string GetName()\n",
    "    {\n",
    "        return $\"Hello from {name}\";\n",
    "    }\n",
    "}\n",
    "\n",
    "public class Program\n",
    "{\n",
    "    public static void Main(string[] args)\n",
    "    {\n",
    "        Person.name = \"Person name\";\n",
    "        System.Console.WriteLine(Person.GetName());\n",
    "\n",
    "        Student student = new Student();\n",
    "        student.name = \"student name\";\n",
    "        System.Console.WriteLine(student.GetName());\n",
    "    }\n",
    "}"
   ]
  },
  {
   "cell_type": "markdown",
   "metadata": {},
   "source": [
    "\n",
    "4. บันทึกผลที่ได้จากการรันคำสั่งในข้อ 3 \n"
   ]
  },
  {
   "cell_type": "markdown",
   "metadata": {},
   "source": [
    "  Lab09_Ex03 succeeded (0.5s) → Lab09_Ex03\\bin\\Debug\\net9.0\\Lab09_Ex03.dll\n",
    "\n",
    "Build succeeded in 1.5s"
   ]
  },
  {
   "cell_type": "markdown",
   "metadata": {},
   "source": [
    "\n",
    "5. Run project โดยการใช้คำสั่ง\n",
    "\n",
    "```cmd\n",
    "dotnet rum --project Lab09_Ex03\n",
    "```\n"
   ]
  },
  {
   "cell_type": "markdown",
   "metadata": {},
   "source": [
    "\n",
    "6. บันทึกผลที่ได้จากการรันคำสั่งในข้อ 5\n"
   ]
  },
  {
   "cell_type": "markdown",
   "metadata": {},
   "source": [
    "Hello from samaj\n",
    "Hello from thanakrit"
   ]
  },
  {
   "cell_type": "markdown",
   "metadata": {},
   "source": [
    "\n",
    "7. อธิบายสิ่งที่พบในการทดลอง"
   ]
  },
  {
   "cell_type": "markdown",
   "metadata": {},
   "source": [
    "Hello from samaj\n",
    "Hello from thanakrit"
   ]
  },
  {
   "cell_type": "markdown",
   "metadata": {},
   "source": [
    "## คำถาม"
   ]
  },
  {
   "cell_type": "markdown",
   "metadata": {},
   "source": [
    "1. ในภาษา C# นั้น Instance members และ static members  แตกต่างกันอย่างไร"
   ]
  },
  {
   "cell_type": "markdown",
   "metadata": {},
   "source": [
    "Instance members: เป็นสมาชิกของอ็อบเจ็กต์ (instance) ของคลาสแต่ละตัว มีค่าแตกต่างกันไปในแต่ละ instance\n",
    "Static members: เป็นสมาชิกของคลาสเอง ไม่ใช่ของ instance มีค่าเดียวกันในทุก instance ของคลาส"
   ]
  },
  {
   "cell_type": "markdown",
   "metadata": {},
   "source": [
    "2. เข้าถึง Instance members และ static members มีหลักการที่แตกต่างกันอย่างไร"
   ]
  },
  {
   "cell_type": "markdown",
   "metadata": {},
   "source": [
    "Instance members: เข้าถึงผ่านอ็อบเจ็กต์ที่สร้างจากคลาส เช่น objectName.memberName\n",
    "Static members: เข้าถึงผ่านชื่อคลาสโดยตรง เช่น ClassName.memberName"
   ]
  },
  {
   "cell_type": "markdown",
   "metadata": {},
   "source": [
    "3. Instance members และ static members เหมาะกับการใช้งานแบบไหน"
   ]
  },
  {
   "cell_type": "markdown",
   "metadata": {},
   "source": [
    "Instance members: เหมาะสำหรับข้อมูลและพฤติกรรมที่แตกต่างกันไปในแต่ละอ็อบเจ็กต์\n",
    "Static members: เหมาะสำหรับข้อมูลและพฤติกรรมที่ใช้ร่วมกันในทุกอ็อบเจ็กต์ หรือเป็น utility methods."
   ]
  },
  {
   "cell_type": "markdown",
   "metadata": {},
   "source": [
    "4. Instance members และ static members ใช้หน่วยความจำต่างกันอย่างไร"
   ]
  },
  {
   "cell_type": "markdown",
   "metadata": {},
   "source": [
    "Instance members: ใช้หน่วยความจำตามจำนวนอ็อบเจ็กต์ที่สร้าง\n",
    "Static members: ใช้หน่วยความจำครั้งเดียวต่อคลาส"
   ]
  },
  {
   "cell_type": "markdown",
   "metadata": {},
   "source": [
    "5. Instance members และ static members มีอายุการใช้งานต่างกันอย่างไร"
   ]
  },
  {
   "cell_type": "markdown",
   "metadata": {},
   "source": [
    "Instance members: มีอายุการใช้งานเท่ากับอ็อบเจ็กต์ที่สร้าง\n",
    "Static members: มีอายุการใช้งานเท่ากับโปรแกรม"
   ]
  },
  {
   "cell_type": "markdown",
   "metadata": {},
   "source": [
    "6. Instance members และ static members สามารถใช้งานร่วมกันได้หรือไม่"
   ]
  },
  {
   "cell_type": "markdown",
   "metadata": {},
   "source": [
    "Instance members: สามารถใช้ static members ได้\n",
    "Static members: ไม่สามารถใช้ instance members ได้โดยตรง ต้องผ่าน instance ที่สร้างขึ้น\n"
   ]
  },
  {
   "cell_type": "markdown",
   "metadata": {},
   "source": [
    "7. keyword static ใช้กับสมาชิกประเภทใดของคลาสได้บ้าง"
   ]
  },
  {
   "cell_type": "markdown",
   "metadata": {},
   "source": [
    "Fields (ตัวแปร)\n",
    "Methods (เมธอด)\n",
    "Properties (คุณสมบัติ)\n",
    "Events (เหตุการณ์)\n",
    "Classes (คลาส) (static class)"
   ]
  }
 ],
 "metadata": {
  "kernelspec": {
   "display_name": ".NET (C#)",
   "language": "C#",
   "name": ".net-csharp"
  },
  "polyglot_notebook": {
   "kernelInfo": {
    "defaultKernelName": "csharp",
    "items": [
     {
      "aliases": [],
      "languageName": "csharp",
      "name": "csharp"
     }
    ]
   }
  }
 },
 "nbformat": 4,
 "nbformat_minor": 2
}
