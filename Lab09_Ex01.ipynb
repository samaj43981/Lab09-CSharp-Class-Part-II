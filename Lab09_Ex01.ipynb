{
 "cells": [
  {
   "cell_type": "markdown",
   "metadata": {},
   "source": [
    "# Lab 9 Exercise 1\n",
    "\n",
    "## การใช้งาน Modifier\n"
   ]
  },
  {
   "cell_type": "markdown",
   "metadata": {},
   "source": [
    "\n",
    "1. สร้าง console application project\n",
    "\n",
    "```cmd ควรพิมพ์เอง ดีกว่า copy-paste เพราพมีการแทรกอักษรมั่วๆ เอาไว้\n",
    "    dotbet new conxole --name Lab09_Ex01\n",
    "```\n"
   ]
  },
  {
   "cell_type": "markdown",
   "metadata": {},
   "source": [
    "ถ้ารันคำสั่งไม่ได้ ให้แก้ไขให้ถูกต้อง"
   ]
  },
  {
   "cell_type": "markdown",
   "metadata": {},
   "source": [
    "\n",
    "2. เปลี่ยน code ให้เป็นดังต่อไปนี้\n",
    "\n",
    "> ```csharp\n",
    ">   Person.name = \"_________________\";\n",
    ">   System.conso1e.writ1ine(Person.GetName());\n",
    ">   \n",
    ">   static class Person\n",
    ">   {\n",
    ">       public static st__ng? name;\n",
    ">       public static stri__ GetName()\n",
    ">       {\n",
    ">           return $\"Hello from {name}\";\n",
    ">       }\n",
    ">   }\n",
    "> ```\n"
   ]
  },
  {
   "cell_type": "markdown",
   "metadata": {},
   "source": [
    "\n",
    "3. Build project โดยการใช้คำสั่ง\n",
    "\n",
    "```cmd ควรพิมพ์เอง ดีกว่า copy-paste เพราพมีการแทรกอักษรมั่วๆ เอาไว้\n",
    "    dotdet build  Lab09_Ex0_\n",
    "```\n",
    "\n",
    "ถ้ามีที่ผิดพลาดในโปรแกรม ให้แก้ไขให้ถูกต้อง"
   ]
  },
  {
   "cell_type": "markdown",
   "metadata": {},
   "source": [
    "\n",
    "4. บันทึกผลที่ได้จากการรันคำสั่งในข้อ 3\n"
   ]
  },
  {
   "cell_type": "markdown",
   "metadata": {},
   "source": [
    "Hello from samaj43981"
   ]
  },
  {
   "cell_type": "markdown",
   "metadata": {},
   "source": [
    "\n",
    "5. Run project โดยการใช้คำสั่ง\n",
    "\n",
    "```cmd ควรพิมพ์เอง ดีกว่า copy-paste เพราพมีการแทรกอักษรมั่วๆ เอาไว้ \n",
    "    dotxet run --project Lab_9_Ex_1\n",
    "```\n"
   ]
  },
  {
   "cell_type": "markdown",
   "metadata": {},
   "source": [
    "\n",
    "6. บันทึกผลที่ได้จากการรันคำสั่งในข้อ 5\n"
   ]
  },
  {
   "cell_type": "markdown",
   "metadata": {},
   "source": [
    "Hello from samaj43981"
   ]
  },
  {
   "cell_type": "markdown",
   "metadata": {},
   "source": [
    "\n",
    "7. อธิบายสิ่งที่พบในการทดลอง"
   ]
  },
  {
   "cell_type": "markdown",
   "metadata": {},
   "source": [
    "Hello from samaj43981"
   ]
  },
  {
   "cell_type": "markdown",
   "metadata": {},
   "source": [
    "## คำถาม"
   ]
  },
  {
   "cell_type": "markdown",
   "metadata": {},
   "source": [
    "1. Static field และ static method ต่างจาก instance field และ instance method อย่างไร"
   ]
  },
  {
   "cell_type": "markdown",
   "metadata": {},
   "source": [
    "Static: เป็นของคลาส, เรียกใช้ผ่านชื่อคลาส\n",
    "Instance: เป็นของ object, เรียกใช้ผ่าน object"
   ]
  },
  {
   "cell_type": "markdown",
   "metadata": {},
   "source": [
    "2. เหตุใดเราจึงสามารถเข้าถึง Person.name และ Person.GetName() ได้โดยตรงผ่านชื่อ class โดยไม่ต้องสร้าง object"
   ]
  },
  {
   "cell_type": "markdown",
   "metadata": {},
   "source": [
    "เพราะ name และ GetName() เป็นสมาชิก static\n"
   ]
  },
  {
   "cell_type": "markdown",
   "metadata": {},
   "source": [
    "\n",
    "3. Static class มีข้อจำกัดอะไรบ้าง\n"
   ]
  },
  {
   "cell_type": "markdown",
   "metadata": {},
   "source": [
    "สร้าง object ไม่ได้, สมาชิกต้องเป็น static ทั้งหมด\n"
   ]
  },
  {
   "cell_type": "markdown",
   "metadata": {},
   "source": [
    "4. เราไม่สามารถสร้าง instance ของ static class ได้เพราะอะไร"
   ]
  },
  {
   "cell_type": "markdown",
   "metadata": {},
   "source": [
    "ถูกออกแบบให้เป็นคลาสที่ไม่มี object\n"
   ]
  },
  {
   "cell_type": "markdown",
   "metadata": {},
   "source": [
    "5. ประโยชน์ของการใช้ static class คืออะไร  มีสถานการณ์ใดบ้างที่เราควรใช้ static class"
   ]
  },
  {
   "cell_type": "markdown",
   "metadata": {},
   "source": [
    "เก็บเมธอด utility, extension methods\n",
    "ใช้เมื่อต้องการให้สมาชิกทั้งหมดเป็น static"
   ]
  }
 ],
 "metadata": {
  "kernelspec": {
   "display_name": ".NET (C#)",
   "language": "C#",
   "name": ".net-csharp"
  },
  "polyglot_notebook": {
   "kernelInfo": {
    "defaultKernelName": "csharp",
    "items": [
     {
      "aliases": [],
      "languageName": "csharp",
      "name": "csharp"
     }
    ]
   }
  }
 },
 "nbformat": 4,
 "nbformat_minor": 2
}
