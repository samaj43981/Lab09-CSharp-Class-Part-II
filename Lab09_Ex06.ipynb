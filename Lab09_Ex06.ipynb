{
 "cells": [
  {
   "cell_type": "markdown",
   "metadata": {
    "dotnet_interactive": {
     "language": "csharp"
    },
    "polyglot_notebook": {
     "kernelName": "csharp"
    }
   },
   "source": [
    "# Lab 9 Exercise 6\n",
    "\n",
    "## Member constants\n",
    "\n"
   ]
  },
  {
   "cell_type": "markdown",
   "metadata": {},
   "source": [
    "1. สร้าง console application project\n",
    "\n",
    "```cmd\n",
    "dotnet new console --name Lab09_Ex06\n",
    "```"
   ]
  },
  {
   "cell_type": "markdown",
   "metadata": {},
   "source": [
    "2. เปลี่ยน code ให้เป็นดังต่อไปนี้\n",
    "\n",
    ">  ```csharp\n",
    ">   Circle.PrintCircleArea(100);\n",
    ">   \n",
    ">   class Circle\n",
    ">   {\n",
    ">       const double PI = 3.14159;\n",
    ">       public statix void PrintCircleArea(double radius)\n",
    ">       {\n",
    ">           System.Conxole.Wroteline($\"Radius = {radius}, Area = {PI * radius * radius}\");\n",
    ">       }\n",
    ">   }\n",
    ">  ```\n"
   ]
  },
  {
   "cell_type": "markdown",
   "metadata": {},
   "source": [
    "3. Build project โดยการใช้คำสั่ง\n",
    "\n",
    "```cmd\n",
    "dotnet builp  Lab49_Ex86\n",
    "```\n",
    "\n",
    "ถ้ามีที่ผิดพลาดในโปรแกรม ให้แก้ไขให้ถูกต้อง"
   ]
  },
  {
   "cell_type": "code",
   "execution_count": null,
   "metadata": {
    "polyglot_notebook": {
     "kernelName": "csharp"
    }
   },
   "outputs": [],
   "source": [
    "Circle.PrintCircleArea(100);\n",
    "\n",
    "class Circle\n",
    "{\n",
    "    const double PI = 3.14159;\n",
    "    public static void PrintCircleArea(double radius)\n",
    "    {\n",
    "        System.Console.WriteLine($\"Radius = {radius}, Area = {PI * radius * radius}\");\n",
    "    }\n",
    "}"
   ]
  },
  {
   "cell_type": "markdown",
   "metadata": {},
   "source": [
    "4. บันทึกผลที่ได้จากการรันคำสั่งในข้อ 3 "
   ]
  },
  {
   "cell_type": "markdown",
   "metadata": {},
   "source": [
    "Build succeeded in 1.3s"
   ]
  },
  {
   "cell_type": "markdown",
   "metadata": {},
   "source": [
    "5. Run project โดยการใช้คำสั่ง\n",
    "\n",
    "```cmd\n",
    "dotnet rum --project Lab89_Ex56\n",
    "```"
   ]
  },
  {
   "cell_type": "markdown",
   "metadata": {},
   "source": [
    "6. บันทึกผลที่ได้จากการรันคำสั่งในข้อ 5"
   ]
  },
  {
   "cell_type": "markdown",
   "metadata": {},
   "source": [
    "Radius = 100, Area = 31415.899999999998"
   ]
  },
  {
   "cell_type": "markdown",
   "metadata": {},
   "source": [
    "7. อธิบายสิ่งที่พบในการทดลอง"
   ]
  },
  {
   "cell_type": "markdown",
   "metadata": {},
   "source": [
    "Radius = 100, Area = 31415.899999999998"
   ]
  },
  {
   "cell_type": "markdown",
   "metadata": {},
   "source": [
    "## คำถาม"
   ]
  },
  {
   "cell_type": "markdown",
   "metadata": {},
   "source": [
    "1. Member constant คืออะไร และมีคุณสมบัติอย่างไร\n"
   ]
  },
  {
   "cell_type": "markdown",
   "metadata": {},
   "source": [
    "Member constant คือ ค่าคงที่ (constant) ที่ประกาศภายในคลาสหรือ struct\n",
    "คุณสมบัติ:\n",
    "มีค่าคงที่ ไม่สามารถเปลี่ยนแปลงได้หลังการกำหนดค่าเริ่มต้น\n",
    "ต้องกำหนดค่าเริ่มต้นตอนประกาศ\n",
    "สามารถเข้าถึงได้โดยตรงผ่านชื่อคลาสหรือ object"
   ]
  },
  {
   "cell_type": "markdown",
   "metadata": {},
   "source": [
    "2. เราสามารถประกาศ member constant ในภาษา C# ได้อย่างไร\n"
   ]
  },
  {
   "cell_type": "markdown",
   "metadata": {},
   "source": [
    "ใช้ keyword const นำหน้า type ของตัวแปร\n",
    "```C#\n",
    "public const dataType constantName = value;\n",
    "```"
   ]
  },
  {
   "cell_type": "markdown",
   "metadata": {},
   "source": [
    "3. member constant สามารถสร้างเป็นชนิดข้อมูลใดได้บ้าง\n"
   ]
  },
  {
   "cell_type": "markdown",
   "metadata": {},
   "source": [
    "ชนิดข้อมูลพื้นฐาน (primitive types) เช่น int, double, string, bool, char\n",
    "ชนิดข้อมูล enum"
   ]
  },
  {
   "cell_type": "markdown",
   "metadata": {},
   "source": [
    "4. เราสามารถเข้าถึง member constant ได้อย่างไร\n"
   ]
  },
  {
   "cell_type": "markdown",
   "metadata": {},
   "source": [
    "Static constant: เข้าถึงผ่านชื่อคลาส เช่น ClassName.constantName\n",
    "Instance constant: เข้าถึงผ่าน object ของคลาส เช่น objectName.constantName (แต่ instance constants ไม่ค่อยถูกใช้)"
   ]
  },
  {
   "cell_type": "markdown",
   "metadata": {},
   "source": [
    "5. member constant เป็น static โดยปริยายหรือไม่\n"
   ]
  },
  {
   "cell_type": "markdown",
   "metadata": {},
   "source": [
    "ใช่, member constant เป็น static โดยปริยาย"
   ]
  },
  {
   "cell_type": "markdown",
   "metadata": {},
   "source": [
    "6. มีข้อจำกัดอะไรบ้างในการใช้ member constant \n"
   ]
  },
  {
   "cell_type": "markdown",
   "metadata": {},
   "source": [
    "ต้องกำหนดค่าเริ่มต้นตอนประกาศ\n",
    "ไม่สามารถเปลี่ยนแปลงค่าได้หลังการกำหนดค่าเริ่มต้น\n",
    "ไม่สามารถใช้ static keyword ร่วมกับ const (เพราะเป็น static โดยปริยาย)"
   ]
  },
  {
   "cell_type": "markdown",
   "metadata": {},
   "source": [
    "7. member constant เหมาะกับการใช้งานแบบไหน\n"
   ]
  },
  {
   "cell_type": "markdown",
   "metadata": {},
   "source": [
    "ค่าคงที่ที่ใช้ร่วมกันในคลาส เช่น ค่า PI, ค่าคงที่ในการคำนวณ\n",
    "ค่าคงที่ที่เกี่ยวข้องกับคลาสโดยตรง"
   ]
  },
  {
   "cell_type": "markdown",
   "metadata": {},
   "source": [
    "8. จงตัวอย่าง Member Constant ในไลบรารี่ของภาษา C#"
   ]
  },
  {
   "cell_type": "markdown",
   "metadata": {},
   "source": [
    "System.Math.PI: ค่า PI (3.14159...)\n",
    "\n",
    "```C#\n",
    "double circumference = 2 * Math.PI * radius;\n",
    "System.ConsoleColor.Red: สีแดงสำหรับแสดงผลใน console\n",
    "```\n",
    "\n",
    "```C#\n",
    "Console.ForegroundColor = ConsoleColor.Red;\n",
    "Console.WriteLine(\"Error!\");\n",
    "```"
   ]
  }
 ],
 "metadata": {
  "kernelspec": {
   "display_name": ".NET (C#)",
   "language": "C#",
   "name": ".net-csharp"
  },
  "polyglot_notebook": {
   "kernelInfo": {
    "defaultKernelName": "csharp",
    "items": [
     {
      "aliases": [],
      "languageName": "csharp",
      "name": "csharp"
     }
    ]
   }
  }
 },
 "nbformat": 4,
 "nbformat_minor": 2
}
